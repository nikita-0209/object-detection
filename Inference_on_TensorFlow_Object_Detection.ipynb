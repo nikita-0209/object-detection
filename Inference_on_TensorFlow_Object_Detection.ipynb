{
  "nbformat": 4,
  "nbformat_minor": 0,
  "metadata": {
    "kernelspec": {
      "display_name": "Python 3",
      "language": "python",
      "name": "python3"
    },
    "language_info": {
      "codemirror_mode": {
        "name": "ipython",
        "version": 3
      },
      "file_extension": ".py",
      "mimetype": "text/x-python",
      "name": "python",
      "nbconvert_exporter": "python",
      "pygments_lexer": "ipython3",
      "version": "3.7.7"
    },
    "colab": {
      "name": "Inference on TensorFlow Object Detection.ipynb",
      "provenance": [],
      "include_colab_link": true
    }
  },
  "cells": [
    {
      "cell_type": "markdown",
      "metadata": {
        "id": "view-in-github",
        "colab_type": "text"
      },
      "source": [
        "<a href=\"https://colab.research.google.com/github/nikita-0209/object-detection/blob/master/Inference_on_TensorFlow_Object_Detection.ipynb\" target=\"_parent\"><img src=\"https://colab.research.google.com/assets/colab-badge.svg\" alt=\"Open In Colab\"/></a>"
      ]
    },
    {
      "cell_type": "code",
      "metadata": {
        "id": "5HKtctatQ_jQ",
        "colab_type": "code",
        "colab": {}
      },
      "source": [
        "import numpy as np\n",
        "import os\n",
        "import six.moves.urllib as urllib\n",
        "import sys\n",
        "import tarfile\n",
        "import tensorflow as tf\n",
        "import zipfile\n",
        "\n",
        " \n",
        "from collections import defaultdict\n",
        "from io import StringIO\n",
        "import matplotlib.pyplot as plt\n",
        "\n",
        "from PIL import Image"
      ],
      "execution_count": 0,
      "outputs": []
    },
    {
      "cell_type": "code",
      "metadata": {
        "id": "K9BeJ55bQ_ja",
        "colab_type": "code",
        "colab": {}
      },
      "source": [
        "sys.path.append(\"..\")\n",
        "from object_detection.utils import ops as utils_ops\n",
        " \n",
        "from utils import label_map_util\n",
        " \n",
        "from utils import visualization_utils as vis_util"
      ],
      "execution_count": 0,
      "outputs": []
    },
    {
      "cell_type": "code",
      "metadata": {
        "id": "k4ic9tXvQ_jg",
        "colab_type": "code",
        "colab": {}
      },
      "source": [
        "MODEL_NAME = <Path to Inference Graph>\n",
        "#MODEL_FILE = MODEL_NAME + '.tar.gz'\n",
        "#DOWNLOAD_BASE = 'http://download.tensorflow.org/models/object_detection/'\n",
        " \n",
        "PATH_TO_CKPT = MODEL_NAME + '/frozen_inference_graph.pb'\n",
        " \n",
        "PATH_TO_LABELS = <Path to Labels>\n",
        " \n",
        "NUM_CLASSES = 1"
      ],
      "execution_count": 0,
      "outputs": []
    },
    {
      "cell_type": "code",
      "metadata": {
        "id": "IIgyLSMNQ_jn",
        "colab_type": "code",
        "colab": {}
      },
      "source": [
        "detection_graph = tf.Graph()\n",
        "with detection_graph.as_default():\n",
        "  od_graph_def = tf.GraphDef()\n",
        "  with tf.gfile.GFile(PATH_TO_CKPT, 'rb') as fid:\n",
        "    serialized_graph = fid.read()\n",
        "    od_graph_def.ParseFromString(serialized_graph)\n",
        "    tf.import_graph_def(od_graph_def, name='')"
      ],
      "execution_count": 0,
      "outputs": []
    },
    {
      "cell_type": "code",
      "metadata": {
        "id": "A3eA-bHGQ_jt",
        "colab_type": "code",
        "colab": {}
      },
      "source": [
        "label_map = label_map_util.load_labelmap(PATH_TO_LABELS)\n",
        "categories = label_map_util.convert_label_map_to_categories(label_map, max_num_classes=NUM_CLASSES, use_display_name=True)\n",
        "category_index = label_map_util.create_category_index(categories)"
      ],
      "execution_count": 0,
      "outputs": []
    },
    {
      "cell_type": "code",
      "metadata": {
        "id": "vxXjYJK4Q_jz",
        "colab_type": "code",
        "colab": {}
      },
      "source": [
        "def load_image_into_numpy_array(image):\n",
        "  (im_width, im_height) = image.size\n",
        "  return np.array(image.getdata()).reshape(\n",
        "      (im_height, im_width, 3)).astype(np.uint8)"
      ],
      "execution_count": 0,
      "outputs": []
    },
    {
      "cell_type": "code",
      "metadata": {
        "id": "DQFbEYxNQ_j5",
        "colab_type": "code",
        "colab": {}
      },
      "source": [
        "PATH_TO_TEST_IMAGES_DIR = '/home/user/custom_object_detector/models/research/object_detection/test_images'\n",
        "TEST_IMAGE_PATHS = [ os.path.join(PATH_TO_TEST_IMAGES_DIR, 'image{}.jpg'.format(i)) for i in range(1,4) ]"
      ],
      "execution_count": 0,
      "outputs": []
    },
    {
      "cell_type": "code",
      "metadata": {
        "id": "h6AN9LELQ_kF",
        "colab_type": "code",
        "colab": {}
      },
      "source": [
        "IMAGE_SIZE = (12,8)"
      ],
      "execution_count": 0,
      "outputs": []
    },
    {
      "cell_type": "code",
      "metadata": {
        "id": "Vq_-OHL8Q_kK",
        "colab_type": "code",
        "colab": {},
        "outputId": "4c737014-bbae-4f40-d52e-82c8353c8813"
      },
      "source": [
        "TEST_IMAGE_PATHS"
      ],
      "execution_count": 0,
      "outputs": [
        {
          "output_type": "execute_result",
          "data": {
            "text/plain": [
              "['/home/naitik_1502/custom_object_detector/models/research/object_detection/test_images/image1.jpg',\n",
              " '/home/naitik_1502/custom_object_detector/models/research/object_detection/test_images/image2.jpg',\n",
              " '/home/naitik_1502/custom_object_detector/models/research/object_detection/test_images/image3.jpg']"
            ]
          },
          "metadata": {
            "tags": []
          },
          "execution_count": 33
        }
      ]
    },
    {
      "cell_type": "code",
      "metadata": {
        "id": "xDrVAUTTQ_kc",
        "colab_type": "code",
        "colab": {}
      },
      "source": [
        "import matplotlib\n",
        "matplotlib.use('TkAgg')\n",
        "import matplotlib.pyplot as plt\n",
        "\n",
        "with detection_graph.as_default():\n",
        "    with tf.Session(graph=detection_graph) as sess:\n",
        "        for image_path in TEST_IMAGE_PATHS:\n",
        "            image = Image.open(image_path)\n",
        "            # the array based representation of the image will be used later in order to prepare the\n",
        "            # result image with boxes and labels on it.\n",
        "            image_np = load_image_into_numpy_array(image)\n",
        "            # Expand dimensions since the model expects images to have shape: [1, None, None, 3]\n",
        "            image_np_expanded = np.expand_dims(image_np, axis=0)\n",
        "        \n",
        "            image_tensor = detection_graph.get_tensor_by_name('image_tensor:0')\n",
        "            boxes = detection_graph.get_tensor_by_name('detection_boxes:0')\n",
        "            scores = detection_graph.get_tensor_by_name('detection_scores:0')\n",
        "            classes = detection_graph.get_tensor_by_name('detection_classes:0')\n",
        "            num_detections = detection_graph.get_tensor_by_name('num_detections:0')\n",
        "            [boxes,scores,classes,num_detections]=sess.run([boxes,scores,classes,num_detections],\n",
        "                                                           feed_dict = {image_tensor : image_np_expanded})\n",
        "            vis_util.visualize_boxes_and_labels_on_image_array(image_np,\n",
        "                                                               np.squeeze(boxes),\n",
        "                                                               np.squeeze(classes).astype(np.int32),\n",
        "                                                               np.squeeze(scores),\n",
        "                                                               category_index,\n",
        "                                                               use_normalized_coordinates=True,\n",
        "                                                               line_thickness=8)\n",
        "            plt.figure(figsize=IMAGE_SIZE)\n",
        "            plt.imshow(image_np)\n",
        "#             plt.waitforbuttonpress()"
      ],
      "execution_count": 0,
      "outputs": []
    }
  ]
}